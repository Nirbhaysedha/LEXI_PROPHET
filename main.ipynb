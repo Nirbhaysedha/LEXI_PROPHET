{
 "cells": [
  {
   "cell_type": "code",
   "execution_count": 48,
   "metadata": {},
   "outputs": [],
   "source": [
    "faqs = \"\"\"About the Program\n",
    "What is the course fee for  Data Science Mentorship Program (DSMP 2023)\n",
    "The course follows a monthly subscription model where you have to make monthly payments of Rs 799/month.\n",
    "What is the total duration of the course?\n",
    "The total duration of the course is 7 months. So the total course fee becomes 799*7 = Rs 5600(approx.)\n",
    "What is the syllabus of the mentorship program?\n",
    "We will be covering the following modules:\n",
    "Python Fundamentals\n",
    "Python libraries for Data Science\n",
    "Data Analysis\n",
    "SQL for Data Science\n",
    "Maths for Machine Learning\n",
    "ML Algorithms\n",
    "Practical ML\n",
    "MLOPs\n",
    "Case studies\n",
    "You can check the detailed syllabus here - https://learnwith.campusx.in/courses/CampusX-Data-Science-Mentorship-Program-637339afe4b0615a1bbed390\n",
    "Will Deep Learning and NLP be a part of this program?\n",
    "No, NLP and Deep Learning both are not a part of this program’s curriculum.\n",
    "What if I miss a live session? Will I get a recording of the session?\n",
    "Yes all our sessions are recorded, so even if you miss a session you can go back and watch the recording.\n",
    "Where can I find the class schedule?\n",
    "Checkout this google sheet to see month by month time table of the course - https://docs.google.com/spreadsheets/d/16OoTax_A6ORAeCg4emgexhqqPv3noQPYKU7RJ6ArOzk/edit?usp=sharing.\n",
    "What is the time duration of all the live sessions?\n",
    "Roughly, all the sessions last 2 hours.\n",
    "What is the language spoken by the instructor during the sessions?\n",
    "Hinglish\n",
    "How will I be informed about the upcoming class?\n",
    "You will get a mail from our side before every paid session once you become a paid user.\n",
    "Can I do this course if I am from a non-tech background?\n",
    "Yes, absolutely.\n",
    "I am late, can I join the program in the middle?\n",
    "Absolutely, you can join the program anytime.\n",
    "If I join/pay in the middle, will I be able to see all the past lectures?\n",
    "Yes, once you make the payment you will be able to see all the past content in your dashboard.\n",
    "Where do I have to submit the task?\n",
    "You don’t have to submit the task. We will provide you with the solutions, you have to self evaluate the task yourself.\n",
    "Will we do case studies in the program?\n",
    "Yes.\n",
    "Where can we contact you?\n",
    "You can mail us at nitish.campusx@gmail.com\n",
    "Payment/Registration related questions\n",
    "Where do we have to make our payments? Your YouTube channel or website?\n",
    "You have to make all your monthly payments on our website. Here is the link for our website - https://learnwith.campusx.in/\n",
    "Can we pay the entire amount of Rs 5600 all at once?\n",
    "Unfortunately no, the program follows a monthly subscription model.\n",
    "What is the validity of monthly subscription? Suppose if I pay on 15th Jan, then do I have to pay again on 1st Feb or 15th Feb\n",
    "15th Feb. The validity period is 30 days from the day you make the payment. So essentially you can join anytime you don’t have to wait for a month to end.\n",
    "What if I don’t like the course after making the payment. What is the refund policy?\n",
    "You get a 7 days refund period from the day you have made the payment.\n",
    "I am living outside India and I am not able to make the payment on the website, what should I do?\n",
    "You have to contact us by sending a mail at nitish.campusx@gmail.com\n",
    "Post registration queries\n",
    "Till when can I view the paid videos on the website?\n",
    "This one is tricky, so read carefully. You can watch the videos till your subscription is valid. Suppose you have purchased subscription on 21st Jan, you will be able to watch all the past paid sessions in the period of 21st Jan to 20th Feb. But after 21st Feb you will have to purchase the subscription again.\n",
    "But once the course is over and you have paid us Rs 5600(or 7 installments of Rs 799) you will be able to watch the paid sessions till Aug 2024.\n",
    "Why lifetime validity is not provided?\n",
    "Because of the low course fee.\n",
    "Where can I reach out in case of a doubt after the session?\n",
    "You will have to fill a google form provided in your dashboard and our team will contact you for a 1 on 1 doubt clearance session\n",
    "If I join the program late, can I still ask past week doubts?\n",
    "Yes, just select past week doubt in the doubt clearance google form.\n",
    "I am living outside India and I am not able to make the payment on the website, what should I do?\n",
    "You have to contact us by sending a mail at nitish.campusx@gmai.com\n",
    "Certificate and Placement Assistance related queries\n",
    "What is the criteria to get the certificate?\n",
    "There are 2 criterias:\n",
    "You have to pay the entire fee of Rs 5600\n",
    "You have to attempt all the course assessments.\n",
    "I am joining late. How can I pay payment of the earlier months?\n",
    "You will get a link to pay fee of earlier months in your dashboard once you pay for the current month.\n",
    "I have read that Placement assistance is a part of this program. What comes under Placement assistance?\n",
    "This is to clarify that Placement assistance does not mean Placement guarantee. So we dont guarantee you any jobs or for that matter even interview calls. So if you are planning to join this course just for placements, I am afraid you will be disappointed. Here is what comes under placement assistance\n",
    "Portfolio Building sessions\n",
    "Soft skill sessions\n",
    "Sessions with industry mentors\n",
    "Discussion on Job hunting strategies\n",
    "\"\"\""
   ]
  },
  {
   "cell_type": "code",
   "execution_count": 49,
   "metadata": {},
   "outputs": [],
   "source": [
    "import tensorflow as tf\n",
    "from tensorflow.keras.preprocessing.text import Tokenizer"
   ]
  },
  {
   "cell_type": "code",
   "execution_count": 50,
   "metadata": {},
   "outputs": [],
   "source": [
    "tokenizer = Tokenizer()"
   ]
  },
  {
   "cell_type": "code",
   "execution_count": 51,
   "metadata": {},
   "outputs": [],
   "source": [
    "tokenizer.fit_on_texts([faqs])"
   ]
  },
  {
   "cell_type": "code",
   "execution_count": 52,
   "metadata": {},
   "outputs": [
    {
     "data": {
      "text/plain": [
       "282"
      ]
     },
     "execution_count": 52,
     "metadata": {},
     "output_type": "execute_result"
    }
   ],
   "source": [
    "len(tokenizer.word_index)"
   ]
  },
  {
   "cell_type": "code",
   "execution_count": 53,
   "metadata": {},
   "outputs": [],
   "source": [
    "input_sequences = []\n",
    "for sentence in faqs.split('\\n'):\n",
    "  tokenized_sentence = tokenizer.texts_to_sequences([sentence])[0]\n",
    "\n",
    "  for i in range(1,len(tokenized_sentence)):\n",
    "    input_sequences.append(tokenized_sentence[:i+1])"
   ]
  },
  {
   "cell_type": "code",
   "execution_count": 54,
   "metadata": {},
   "outputs": [],
   "source": [
    "max_len = max([len(x) for x in input_sequences])"
   ]
  },
  {
   "cell_type": "code",
   "execution_count": 55,
   "metadata": {},
   "outputs": [],
   "source": [
    "from tensorflow.keras.preprocessing.sequence import pad_sequences\n",
    "padded_input_sequences = pad_sequences(input_sequences, maxlen = max_len, padding='pre')"
   ]
  },
  {
   "cell_type": "code",
   "execution_count": 56,
   "metadata": {},
   "outputs": [],
   "source": [
    "X = padded_input_sequences[:,:-1]"
   ]
  },
  {
   "cell_type": "code",
   "execution_count": 57,
   "metadata": {},
   "outputs": [],
   "source": [
    "y = padded_input_sequences[:,-1]"
   ]
  },
  {
   "cell_type": "code",
   "execution_count": 58,
   "metadata": {},
   "outputs": [],
   "source": [
    "from tensorflow.keras.utils import to_categorical\n",
    "y = to_categorical(y,num_classes=283)"
   ]
  },
  {
   "cell_type": "code",
   "execution_count": 59,
   "metadata": {},
   "outputs": [],
   "source": [
    "from tensorflow.keras.models import Sequential\n",
    "from tensorflow.keras.layers import Embedding, LSTM, Dense"
   ]
  },
  {
   "cell_type": "code",
   "execution_count": 68,
   "metadata": {},
   "outputs": [],
   "source": [
    "\n",
    "model = Sequential()\n",
    "model.add(Embedding(283, 100, input_length=56))\n",
    "model.add(LSTM(150, return_sequences=True))\n",
    "model.add(LSTM(150, return_sequences=True))\n",
    "model.add(Dense(283, activation='softmax'))"
   ]
  },
  {
   "cell_type": "code",
   "execution_count": 69,
   "metadata": {},
   "outputs": [],
   "source": [
    "model.compile(loss='categorical_crossentropy', optimizer='adam',metrics=['accuracy'])\n"
   ]
  },
  {
   "cell_type": "code",
   "execution_count": 70,
   "metadata": {},
   "outputs": [
    {
     "name": "stdout",
     "output_type": "stream",
     "text": [
      "Model: \"sequential_6\"\n",
      "_________________________________________________________________\n",
      " Layer (type)                Output Shape              Param #   \n",
      "=================================================================\n",
      " embedding_6 (Embedding)     (None, 56, 100)           28300     \n",
      "                                                                 \n",
      " lstm_13 (LSTM)              (None, 56, 150)           150600    \n",
      "                                                                 \n",
      " lstm_14 (LSTM)              (None, 56, 150)           180600    \n",
      "                                                                 \n",
      " dense_5 (Dense)             (None, 56, 283)           42733     \n",
      "                                                                 \n",
      "=================================================================\n",
      "Total params: 402233 (1.53 MB)\n",
      "Trainable params: 402233 (1.53 MB)\n",
      "Non-trainable params: 0 (0.00 Byte)\n",
      "_________________________________________________________________\n"
     ]
    }
   ],
   "source": [
    "model.summary()"
   ]
  },
  {
   "cell_type": "code",
   "execution_count": 71,
   "metadata": {},
   "outputs": [
    {
     "name": "stdout",
     "output_type": "stream",
     "text": [
      "Epoch 1/100\n"
     ]
    },
    {
     "ename": "ValueError",
     "evalue": "in user code:\n\n    File \"/Users/nirbhaysedha/miniforge3/lib/python3.10/site-packages/keras/src/engine/training.py\", line 1338, in train_function  *\n        return step_function(self, iterator)\n    File \"/Users/nirbhaysedha/miniforge3/lib/python3.10/site-packages/keras/src/engine/training.py\", line 1322, in step_function  **\n        outputs = model.distribute_strategy.run(run_step, args=(data,))\n    File \"/Users/nirbhaysedha/miniforge3/lib/python3.10/site-packages/keras/src/engine/training.py\", line 1303, in run_step  **\n        outputs = model.train_step(data)\n    File \"/Users/nirbhaysedha/miniforge3/lib/python3.10/site-packages/keras/src/engine/training.py\", line 1081, in train_step\n        loss = self.compute_loss(x, y, y_pred, sample_weight)\n    File \"/Users/nirbhaysedha/miniforge3/lib/python3.10/site-packages/keras/src/engine/training.py\", line 1139, in compute_loss\n        return self.compiled_loss(\n    File \"/Users/nirbhaysedha/miniforge3/lib/python3.10/site-packages/keras/src/engine/compile_utils.py\", line 265, in __call__\n        loss_value = loss_obj(y_t, y_p, sample_weight=sw)\n    File \"/Users/nirbhaysedha/miniforge3/lib/python3.10/site-packages/keras/src/losses.py\", line 142, in __call__\n        losses = call_fn(y_true, y_pred)\n    File \"/Users/nirbhaysedha/miniforge3/lib/python3.10/site-packages/keras/src/losses.py\", line 268, in call  **\n        return ag_fn(y_true, y_pred, **self._fn_kwargs)\n    File \"/Users/nirbhaysedha/miniforge3/lib/python3.10/site-packages/keras/src/losses.py\", line 2122, in categorical_crossentropy\n        return backend.categorical_crossentropy(\n    File \"/Users/nirbhaysedha/miniforge3/lib/python3.10/site-packages/keras/src/backend.py\", line 5560, in categorical_crossentropy\n        target.shape.assert_is_compatible_with(output.shape)\n\n    ValueError: Shapes (None, 283) and (None, 56, 283) are incompatible\n",
     "output_type": "error",
     "traceback": [
      "\u001b[0;31m---------------------------------------------------------------------------\u001b[0m",
      "\u001b[0;31mValueError\u001b[0m                                Traceback (most recent call last)",
      "\u001b[1;32m/Users/nirbhaysedha/Documents/NEXT_WORD_PREDICTOR/main.ipynb Cell 16\u001b[0m line \u001b[0;36m1\n\u001b[0;32m----> <a href='vscode-notebook-cell:/Users/nirbhaysedha/Documents/NEXT_WORD_PREDICTOR/main.ipynb#X21sZmlsZQ%3D%3D?line=0'>1</a>\u001b[0m model\u001b[39m.\u001b[39;49mfit(X,y,epochs\u001b[39m=\u001b[39;49m\u001b[39m100\u001b[39;49m)\n",
      "File \u001b[0;32m~/miniforge3/lib/python3.10/site-packages/keras/src/utils/traceback_utils.py:70\u001b[0m, in \u001b[0;36mfilter_traceback.<locals>.error_handler\u001b[0;34m(*args, **kwargs)\u001b[0m\n\u001b[1;32m     67\u001b[0m     filtered_tb \u001b[39m=\u001b[39m _process_traceback_frames(e\u001b[39m.\u001b[39m__traceback__)\n\u001b[1;32m     68\u001b[0m     \u001b[39m# To get the full stack trace, call:\u001b[39;00m\n\u001b[1;32m     69\u001b[0m     \u001b[39m# `tf.debugging.disable_traceback_filtering()`\u001b[39;00m\n\u001b[0;32m---> 70\u001b[0m     \u001b[39mraise\u001b[39;00m e\u001b[39m.\u001b[39mwith_traceback(filtered_tb) \u001b[39mfrom\u001b[39;00m \u001b[39mNone\u001b[39;00m\n\u001b[1;32m     71\u001b[0m \u001b[39mfinally\u001b[39;00m:\n\u001b[1;32m     72\u001b[0m     \u001b[39mdel\u001b[39;00m filtered_tb\n",
      "File \u001b[0;32m/var/folders/jf/n81spp5n7xvgd6zfjvbrxjlc0000gn/T/__autograph_generated_filezd2mqhh_.py:15\u001b[0m, in \u001b[0;36mouter_factory.<locals>.inner_factory.<locals>.tf__train_function\u001b[0;34m(iterator)\u001b[0m\n\u001b[1;32m     13\u001b[0m \u001b[39mtry\u001b[39;00m:\n\u001b[1;32m     14\u001b[0m     do_return \u001b[39m=\u001b[39m \u001b[39mTrue\u001b[39;00m\n\u001b[0;32m---> 15\u001b[0m     retval_ \u001b[39m=\u001b[39m ag__\u001b[39m.\u001b[39mconverted_call(ag__\u001b[39m.\u001b[39mld(step_function), (ag__\u001b[39m.\u001b[39mld(\u001b[39mself\u001b[39m), ag__\u001b[39m.\u001b[39mld(iterator)), \u001b[39mNone\u001b[39;00m, fscope)\n\u001b[1;32m     16\u001b[0m \u001b[39mexcept\u001b[39;00m:\n\u001b[1;32m     17\u001b[0m     do_return \u001b[39m=\u001b[39m \u001b[39mFalse\u001b[39;00m\n",
      "\u001b[0;31mValueError\u001b[0m: in user code:\n\n    File \"/Users/nirbhaysedha/miniforge3/lib/python3.10/site-packages/keras/src/engine/training.py\", line 1338, in train_function  *\n        return step_function(self, iterator)\n    File \"/Users/nirbhaysedha/miniforge3/lib/python3.10/site-packages/keras/src/engine/training.py\", line 1322, in step_function  **\n        outputs = model.distribute_strategy.run(run_step, args=(data,))\n    File \"/Users/nirbhaysedha/miniforge3/lib/python3.10/site-packages/keras/src/engine/training.py\", line 1303, in run_step  **\n        outputs = model.train_step(data)\n    File \"/Users/nirbhaysedha/miniforge3/lib/python3.10/site-packages/keras/src/engine/training.py\", line 1081, in train_step\n        loss = self.compute_loss(x, y, y_pred, sample_weight)\n    File \"/Users/nirbhaysedha/miniforge3/lib/python3.10/site-packages/keras/src/engine/training.py\", line 1139, in compute_loss\n        return self.compiled_loss(\n    File \"/Users/nirbhaysedha/miniforge3/lib/python3.10/site-packages/keras/src/engine/compile_utils.py\", line 265, in __call__\n        loss_value = loss_obj(y_t, y_p, sample_weight=sw)\n    File \"/Users/nirbhaysedha/miniforge3/lib/python3.10/site-packages/keras/src/losses.py\", line 142, in __call__\n        losses = call_fn(y_true, y_pred)\n    File \"/Users/nirbhaysedha/miniforge3/lib/python3.10/site-packages/keras/src/losses.py\", line 268, in call  **\n        return ag_fn(y_true, y_pred, **self._fn_kwargs)\n    File \"/Users/nirbhaysedha/miniforge3/lib/python3.10/site-packages/keras/src/losses.py\", line 2122, in categorical_crossentropy\n        return backend.categorical_crossentropy(\n    File \"/Users/nirbhaysedha/miniforge3/lib/python3.10/site-packages/keras/src/backend.py\", line 5560, in categorical_crossentropy\n        target.shape.assert_is_compatible_with(output.shape)\n\n    ValueError: Shapes (None, 283) and (None, 56, 283) are incompatible\n"
     ]
    }
   ],
   "source": [
    "model.fit(X,y,epochs=100)"
   ]
  },
  {
   "cell_type": "code",
   "execution_count": null,
   "metadata": {},
   "outputs": [
    {
     "name": "stderr",
     "output_type": "stream",
     "text": [
      "2023-09-15 23:01:38.993928: I tensorflow/core/grappler/optimizers/custom_graph_optimizer_registry.cc:114] Plugin optimizer for device_type GPU is enabled.\n",
      "2023-09-15 23:01:39.292854: I tensorflow/core/grappler/optimizers/custom_graph_optimizer_registry.cc:114] Plugin optimizer for device_type GPU is enabled.\n",
      "2023-09-15 23:01:39.651148: I tensorflow/core/grappler/optimizers/custom_graph_optimizer_registry.cc:114] Plugin optimizer for device_type GPU is enabled.\n"
     ]
    },
    {
     "name": "stdout",
     "output_type": "stream",
     "text": [
      "1/1 [==============================] - 2s 2s/step\n",
      "1/1 [==============================] - 0s 18ms/step\n",
      "1/1 [==============================] - 0s 17ms/step\n",
      "1/1 [==============================] - 0s 20ms/step\n",
      "1/1 [==============================] - 0s 16ms/step\n",
      "1/1 [==============================] - 0s 17ms/step\n",
      "1/1 [==============================] - 0s 19ms/step\n",
      "1/1 [==============================] - 0s 20ms/step\n",
      "1/1 [==============================] - 0s 17ms/step\n",
      "1/1 [==============================] - 0s 18ms/step\n"
     ]
    }
   ],
   "source": [
    "import time\n",
    "import numpy as np\n",
    "text = \"what is the fee\"\n",
    "\n",
    "for i in range(10):\n",
    "  # tokenize\n",
    "  token_text = tokenizer.texts_to_sequences([text])[0]\n",
    "  # padding\n",
    "  padded_token_text = pad_sequences([token_text], maxlen=56, padding='pre')\n",
    "  # predict\n",
    "  pos = np.argmax(model.predict(padded_token_text))\n",
    "\n",
    "  for word,index in tokenizer.word_index.items():\n",
    "    if index == pos:\n",
    "      text = text + \" \" + word\n",
    "      print(text)\n",
    "      time.sleep(2)"
   ]
  },
  {
   "cell_type": "code",
   "execution_count": 40,
   "metadata": {},
   "outputs": [
    {
     "data": {
      "text/plain": [
       "{'the': 1,\n",
       " 'you': 2,\n",
       " 'i': 3,\n",
       " 'to': 4,\n",
       " 'a': 5,\n",
       " 'of': 6,\n",
       " 'is': 7,\n",
       " 'have': 8,\n",
       " 'will': 9,\n",
       " 'can': 10,\n",
       " 'what': 11,\n",
       " 'course': 12,\n",
       " 'program': 13,\n",
       " 'in': 14,\n",
       " 'for': 15,\n",
       " 'all': 16,\n",
       " 'sessions': 17,\n",
       " 'on': 18,\n",
       " 'be': 19,\n",
       " 'and': 20,\n",
       " 'this': 21,\n",
       " 'if': 22,\n",
       " 'am': 23,\n",
       " 'pay': 24,\n",
       " 'payment': 25,\n",
       " 'make': 26,\n",
       " 'we': 27,\n",
       " 'do': 28,\n",
       " 'subscription': 29,\n",
       " 'where': 30,\n",
       " 'rs': 31,\n",
       " 'so': 32,\n",
       " 'campusx': 33,\n",
       " 'session': 34,\n",
       " 'our': 35,\n",
       " 'paid': 36,\n",
       " 'join': 37,\n",
       " 'able': 38,\n",
       " 'your': 39,\n",
       " 'website': 40,\n",
       " 'placement': 41,\n",
       " 'fee': 42,\n",
       " 'data': 43,\n",
       " 'monthly': 44,\n",
       " 'month': 45,\n",
       " 'not': 46,\n",
       " 'get': 47,\n",
       " 'yes': 48,\n",
       " 'once': 49,\n",
       " 'past': 50,\n",
       " 'feb': 51,\n",
       " 'assistance': 52,\n",
       " 'science': 53,\n",
       " '7': 54,\n",
       " '5600': 55,\n",
       " 'are': 56,\n",
       " 'watch': 57,\n",
       " 'google': 58,\n",
       " 'by': 59,\n",
       " 'com': 60,\n",
       " 'mail': 61,\n",
       " 'from': 62,\n",
       " 'contact': 63,\n",
       " 'us': 64,\n",
       " 'at': 65,\n",
       " 'or': 66,\n",
       " 'doubt': 67,\n",
       " 'mentorship': 68,\n",
       " 'payments': 69,\n",
       " '799': 70,\n",
       " 'total': 71,\n",
       " 'duration': 72,\n",
       " 'months': 73,\n",
       " 'learning': 74,\n",
       " 'case': 75,\n",
       " 'here': 76,\n",
       " 'https': 77,\n",
       " 'part': 78,\n",
       " 'see': 79,\n",
       " 'late': 80,\n",
       " 'dashboard': 81,\n",
       " 'task': 82,\n",
       " 'don’t': 83,\n",
       " 'nitish': 84,\n",
       " 'validity': 85,\n",
       " '15th': 86,\n",
       " 'jan': 87,\n",
       " 'period': 88,\n",
       " 'after': 89,\n",
       " 'till': 90,\n",
       " '21st': 91,\n",
       " 'that': 92,\n",
       " 'about': 93,\n",
       " 'follows': 94,\n",
       " 'model': 95,\n",
       " 'syllabus': 96,\n",
       " 'python': 97,\n",
       " 'ml': 98,\n",
       " 'studies': 99,\n",
       " 'learnwith': 100,\n",
       " 'deep': 101,\n",
       " 'nlp': 102,\n",
       " 'no': 103,\n",
       " 'miss': 104,\n",
       " 'live': 105,\n",
       " 'recording': 106,\n",
       " 'even': 107,\n",
       " 'class': 108,\n",
       " 'time': 109,\n",
       " '2': 110,\n",
       " 'how': 111,\n",
       " 'absolutely': 112,\n",
       " 'middle': 113,\n",
       " 'anytime': 114,\n",
       " 'submit': 115,\n",
       " 'with': 116,\n",
       " 'gmail': 117,\n",
       " 'registration': 118,\n",
       " 'related': 119,\n",
       " 'link': 120,\n",
       " 'entire': 121,\n",
       " 'suppose': 122,\n",
       " 'again': 123,\n",
       " 'days': 124,\n",
       " 'day': 125,\n",
       " 'refund': 126,\n",
       " 'living': 127,\n",
       " 'outside': 128,\n",
       " 'india': 129,\n",
       " 'should': 130,\n",
       " 'sending': 131,\n",
       " 'queries': 132,\n",
       " 'videos': 133,\n",
       " 'read': 134,\n",
       " 'but': 135,\n",
       " 'provided': 136,\n",
       " 'form': 137,\n",
       " '1': 138,\n",
       " 'clearance': 139,\n",
       " 'week': 140,\n",
       " 'just': 141,\n",
       " 'certificate': 142,\n",
       " 'earlier': 143,\n",
       " 'comes': 144,\n",
       " 'under': 145,\n",
       " 'guarantee': 146,\n",
       " 'dsmp': 147,\n",
       " '2023': 148,\n",
       " 'becomes': 149,\n",
       " 'approx': 150,\n",
       " 'covering': 151,\n",
       " 'following': 152,\n",
       " 'modules': 153,\n",
       " 'fundamentals': 154,\n",
       " 'libraries': 155,\n",
       " 'analysis': 156,\n",
       " 'sql': 157,\n",
       " 'maths': 158,\n",
       " 'machine': 159,\n",
       " 'algorithms': 160,\n",
       " 'practical': 161,\n",
       " 'mlops': 162,\n",
       " 'check': 163,\n",
       " 'detailed': 164,\n",
       " 'courses': 165,\n",
       " '637339afe4b0615a1bbed390': 166,\n",
       " 'both': 167,\n",
       " 'program’s': 168,\n",
       " 'curriculum': 169,\n",
       " 'recorded': 170,\n",
       " 'go': 171,\n",
       " 'back': 172,\n",
       " 'find': 173,\n",
       " 'schedule': 174,\n",
       " 'checkout': 175,\n",
       " 'sheet': 176,\n",
       " 'table': 177,\n",
       " 'docs': 178,\n",
       " 'spreadsheets': 179,\n",
       " 'd': 180,\n",
       " '16ootax': 181,\n",
       " 'a6oraecg4emgexhqqpv3noqpyku7rj6arozk': 182,\n",
       " 'edit': 183,\n",
       " 'usp': 184,\n",
       " 'sharing': 185,\n",
       " 'roughly': 186,\n",
       " 'last': 187,\n",
       " 'hours': 188,\n",
       " 'language': 189,\n",
       " 'spoken': 190,\n",
       " 'instructor': 191,\n",
       " 'during': 192,\n",
       " 'hinglish': 193,\n",
       " 'informed': 194,\n",
       " 'upcoming': 195,\n",
       " 'side': 196,\n",
       " 'before': 197,\n",
       " 'every': 198,\n",
       " 'become': 199,\n",
       " 'user': 200,\n",
       " 'non': 201,\n",
       " 'tech': 202,\n",
       " 'background': 203,\n",
       " 'lectures': 204,\n",
       " 'content': 205,\n",
       " 'provide': 206,\n",
       " 'solutions': 207,\n",
       " 'self': 208,\n",
       " 'evaluate': 209,\n",
       " 'yourself': 210,\n",
       " 'questions': 211,\n",
       " 'youtube': 212,\n",
       " 'channel': 213,\n",
       " 'amount': 214,\n",
       " 'unfortunately': 215,\n",
       " 'then': 216,\n",
       " '1st': 217,\n",
       " '30': 218,\n",
       " 'essentially': 219,\n",
       " 'wait': 220,\n",
       " 'end': 221,\n",
       " 'like': 222,\n",
       " 'making': 223,\n",
       " 'policy': 224,\n",
       " 'made': 225,\n",
       " 'post': 226,\n",
       " 'when': 227,\n",
       " 'view': 228,\n",
       " 'one': 229,\n",
       " 'tricky': 230,\n",
       " 'carefully': 231,\n",
       " 'valid': 232,\n",
       " 'purchased': 233,\n",
       " '20th': 234,\n",
       " 'purchase': 235,\n",
       " 'over': 236,\n",
       " 'installments': 237,\n",
       " 'aug': 238,\n",
       " '2024': 239,\n",
       " 'why': 240,\n",
       " 'lifetime': 241,\n",
       " 'because': 242,\n",
       " 'low': 243,\n",
       " 'reach': 244,\n",
       " 'out': 245,\n",
       " 'fill': 246,\n",
       " 'team': 247,\n",
       " 'still': 248,\n",
       " 'ask': 249,\n",
       " 'doubts': 250,\n",
       " 'select': 251,\n",
       " 'gmai': 252,\n",
       " 'criteria': 253,\n",
       " 'there': 254,\n",
       " 'criterias': 255,\n",
       " 'attempt': 256,\n",
       " 'assessments': 257,\n",
       " 'joining': 258,\n",
       " 'current': 259,\n",
       " 'clarify': 260,\n",
       " 'does': 261,\n",
       " 'mean': 262,\n",
       " 'dont': 263,\n",
       " 'any': 264,\n",
       " 'jobs': 265,\n",
       " 'matter': 266,\n",
       " 'interview': 267,\n",
       " 'calls': 268,\n",
       " 'planning': 269,\n",
       " 'placements': 270,\n",
       " 'afraid': 271,\n",
       " 'disappointed': 272,\n",
       " 'portfolio': 273,\n",
       " 'building': 274,\n",
       " 'soft': 275,\n",
       " 'skill': 276,\n",
       " 'industry': 277,\n",
       " 'mentors': 278,\n",
       " 'discussion': 279,\n",
       " 'job': 280,\n",
       " 'hunting': 281,\n",
       " 'strategies': 282}"
      ]
     },
     "execution_count": 40,
     "metadata": {},
     "output_type": "execute_result"
    }
   ],
   "source": [
    "tokenizer.word_index"
   ]
  },
  {
   "cell_type": "code",
   "execution_count": 46,
   "metadata": {},
   "outputs": [
    {
     "data": {
      "text/plain": [
       "(863, 56)"
      ]
     },
     "execution_count": 46,
     "metadata": {},
     "output_type": "execute_result"
    }
   ],
   "source": [
    "X.shape"
   ]
  },
  {
   "cell_type": "code",
   "execution_count": 47,
   "metadata": {},
   "outputs": [
    {
     "data": {
      "text/plain": [
       "(863, 283)"
      ]
     },
     "execution_count": 47,
     "metadata": {},
     "output_type": "execute_result"
    }
   ],
   "source": [
    "y.shape"
   ]
  },
  {
   "cell_type": "code",
   "execution_count": null,
   "metadata": {},
   "outputs": [],
   "source": []
  }
 ],
 "metadata": {
  "kernelspec": {
   "display_name": "base",
   "language": "python",
   "name": "python3"
  },
  "language_info": {
   "codemirror_mode": {
    "name": "ipython",
    "version": 3
   },
   "file_extension": ".py",
   "mimetype": "text/x-python",
   "name": "python",
   "nbconvert_exporter": "python",
   "pygments_lexer": "ipython3",
   "version": "3.10.12"
  },
  "orig_nbformat": 4
 },
 "nbformat": 4,
 "nbformat_minor": 2
}
